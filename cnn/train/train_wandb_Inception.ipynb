{
 "cells": [
  {
   "cell_type": "code",
   "execution_count": null,
   "metadata": {},
   "outputs": [],
   "source": [
    "# 加载数据集\n",
    "from utils.loadData import *\n",
    "from utils.tools import *\n",
    "from utils.trainWandb import *\n",
    "\n",
    "# 导入写好的 resnet 文件\n",
    "import sys\n",
    "sys.path.append(\"..\")\n",
    "from Inception import *\n",
    "import os\n",
    "\n",
    "# 数据处理用到的包\n",
    "from tqdm import tqdm\n",
    "import pandas as pd\n",
    "import numpy as np\n",
    "\n",
    "import matplotlib.pyplot as plt\n",
    "%matplotlib inline\n",
    "\n",
    "import warnings\n",
    "warnings.filterwarnings(\"ignore\")\n",
    "\n",
    "# 导入训练所需要使用的包\n",
    "import torch\n",
    "import torch.optim as optim\n",
    "from torch.optim import lr_scheduler"
   ]
  },
  {
   "cell_type": "code",
   "execution_count": null,
   "metadata": {},
   "outputs": [],
   "source": [
    "device = torch.device('cuda:0' if torch.cuda.is_available() else 'cpu')\n",
    "\n",
    "net = Inception3(num_classes=10)\n",
    "optimizer = optim.SGD(net.parameters(), lr=0.01)\n",
    "\n",
    "# 为了在 gpu 上进行训练\n",
    "net = net.to(device)\n",
    "\n",
    "# 交叉熵损失函数\n",
    "criterion = nn.CrossEntropyLoss()\n",
    "\n",
    "# 学习率降低策略\n",
    "lr_scheduler = lr_scheduler.StepLR(optimizer, step_size=5, gamma=0.5)"
   ]
  },
  {
   "cell_type": "code",
   "execution_count": null,
   "metadata": {},
   "outputs": [],
   "source": [
    "# 训练轮次 Epoch\n",
    "EPOCHS = 15\n",
    "\n",
    "# 定义批量大小\n",
    "batch_size = 64\n",
    "\n",
    "# 加载数据集\n",
    "train_iter, test_iter = load_data_cifar10(batch_size, resize=224)"
   ]
  },
  {
   "attachments": {},
   "cell_type": "markdown",
   "metadata": {},
   "source": [
    "## 训练前训练日志初始化"
   ]
  },
  {
   "cell_type": "code",
   "execution_count": null,
   "metadata": {},
   "outputs": [],
   "source": [
    "epoch = 0\n",
    "batch_idx = 0\n",
    "best_test_accuracy = 0\n",
    "\n",
    "# 训练日志-训练集\n",
    "df_train_log = pd.DataFrame()\n",
    "log_train = {}\n",
    "log_train['epoch'] = 0\n",
    "log_train['batch'] = 0\n",
    "images, labels = next(iter(train_iter))\n",
    "log_train.update(train_one_batch(images, labels, device, net, optimizer, criterion,epoch, batch_size))\n",
    "df_train_log = df_train_log.append(log_train, ignore_index=True)\n",
    "\n",
    "# 训练日志-测试集\n",
    "df_test_log = pd.DataFrame()\n",
    "log_test = {}\n",
    "log_test['epoch'] = 0\n",
    "log_test.update(evaluate_testset(test_iter, device, net, criterion, epoch))\n",
    "df_test_log = df_test_log.append(log_test, ignore_index=True)"
   ]
  },
  {
   "cell_type": "code",
   "execution_count": null,
   "metadata": {},
   "outputs": [],
   "source": [
    "import wandb\n",
    "\n",
    "wandb.init(project='resnet34-train', name=time.strftime('%m%d%H%M%S'))"
   ]
  },
  {
   "cell_type": "code",
   "execution_count": null,
   "metadata": {},
   "outputs": [],
   "source": [
    "from tqdm.autonotebook import tqdm\n",
    "\n",
    "for epoch in range(1, EPOCHS+1):\n",
    "    \n",
    "    print(f'Epoch {epoch}/{EPOCHS}')\n",
    "    \n",
    "    ## 训练阶段\n",
    "    net.train()\n",
    "    for images, labels in tqdm(train_iter): # 获得一个 batch 的数据和标注\n",
    "        batch_idx += 1\n",
    "        # 准备一个训练字典\n",
    "        log_train = train_one_batch(images, labels, device, net, optimizer,criterion, epoch, batch_size)\n",
    "        df_train_log = df_train_log.append(log_train, ignore_index=True)\n",
    "        # 一个 step 就是一个 batch\n",
    "        # 一个 batch 进行了一次参数更新\n",
    "        # 写入训练字典\n",
    "        wandb.log(log_train)\n",
    "        \n",
    "    lr_scheduler.step()\n",
    "\n",
    "    ## 测试阶段\n",
    "    net.eval()\n",
    "    # 准备一个测试字典\n",
    "    log_test = evaluate_testset(test_iter, device, net, criterion, epoch)\n",
    "    df_test_log = df_test_log.append(log_test, ignore_index=True)\n",
    "    # 写入测试字典\n",
    "    wandb.log(log_test)\n",
    "    \n",
    "    # 保存最新的最佳模型文件\n",
    "    if log_test['test_accuracy'] > best_test_accuracy: \n",
    "        # 删除旧的最佳模型文件(如有)\n",
    "        old_best_checkpoint_path = 'checkpoints/best-{:.3f}.pth'.format(best_test_accuracy)\n",
    "        if os.path.exists(old_best_checkpoint_path):\n",
    "            os.remove(old_best_checkpoint_path)\n",
    "        # 保存新的最佳模型文件\n",
    "        new_best_checkpoint_path = 'checkpoints/best-{:.3f}.pth'.format(log_test['test_accuracy'])\n",
    "        torch.save(net, new_best_checkpoint_path)\n",
    "        print('保存新的最佳模型', 'checkpoints/best-{:.3f}.pth'.format(best_test_accuracy))\n",
    "        best_test_accuracy = log_test['test_accuracy']\n",
    "\n",
    "# df_train_log.to_csv('训练日志-训练集.csv', index=False)\n",
    "# df_test_log.to_csv('训练日志-测试集.csv', index=False)"
   ]
  }
 ],
 "metadata": {
  "language_info": {
   "name": "python"
  },
  "orig_nbformat": 4
 },
 "nbformat": 4,
 "nbformat_minor": 2
}
