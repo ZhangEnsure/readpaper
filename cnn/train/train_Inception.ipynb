{
 "cells": [
  {
   "cell_type": "code",
   "execution_count": null,
   "metadata": {},
   "outputs": [],
   "source": [
    "from utils.loadData import *\n",
    "from utils.tools import *\n",
    "\n",
    "import sys\n",
    "sys.path.append(\"..\")\n",
    "from Inception import *"
   ]
  },
  {
   "cell_type": "code",
   "execution_count": null,
   "metadata": {},
   "outputs": [],
   "source": [
    "net = Inception3(num_classes=10)\n",
    "lr, num_epochs, batch_size = 0.05, 15, 64\n",
    "train_iter, test_iter = load_data_cifar10(batch_size, resize=200)\n",
    "train_ch6(net, train_iter, test_iter, num_epochs, lr, try_gpu())"
   ]
  }
 ],
 "metadata": {
  "language_info": {
   "name": "python"
  },
  "orig_nbformat": 4
 },
 "nbformat": 4,
 "nbformat_minor": 2
}
